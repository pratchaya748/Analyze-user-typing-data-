{
 "cells": [
  {
   "cell_type": "code",
   "execution_count": 1,
   "id": "bb938401",
   "metadata": {},
   "outputs": [],
   "source": [
    "import pandas as pd\n",
    "import os "
   ]
  },
  {
   "cell_type": "code",
   "execution_count": 3,
   "id": "dded0c2b",
   "metadata": {},
   "outputs": [],
   "source": [
    "for _ in range(1,16):\n",
    "#     ชื่อไฟล์\n",
    "    fname = f'2 keys/a{_}.csv'\n",
    "    \n",
    "#     ไว้เช็คไฟล์ว่าอยู่ในโฟลเดอร์ซ้ำหรือป่าว\n",
    "    chk = True\n",
    "    \n",
    "    # ไฟล์\n",
    "    cols_to_use = ['Character', 'Time']\n",
    "    key = pd.read_csv(fname, usecols = cols_to_use)\n",
    "    \n",
    "    # ตัด + เรียงข้อมูล \n",
    "    key = key[key.Time >= 0]\n",
    "    key = key[key.Time <= 10000]\n",
    "    key = key.sort_values(by=['Character'])\n",
    "    \n",
    "#     เก็บตัวอักษรที่ต่างกัน\n",
    "    cha = key.Character.unique().tolist()\n",
    "    \n",
    "    # path เก็บโฟลเดอร์\n",
    "    path = f'E:/dataSic/TypingTime/cut2K/a{_}'\n",
    "\n",
    "    # Create the directory \n",
    "    try: \n",
    "        os.mkdir(path) \n",
    "    except OSError as error: \n",
    "        print(error) \n",
    "        chk = False\n",
    "    \n",
    "#     เก็บค่าแยกตัวอักษร\n",
    "    if chk == True:\n",
    "        for i in cha:\n",
    "            # path\n",
    "            name = f'E:/dataSic/TypingTime/cut2K/a{_}/a{_}_{i}.csv'\n",
    "            i = key[key['Character'] == i]   \n",
    "            i.to_csv(name, index=False)"
   ]
  }
 ],
 "metadata": {
  "kernelspec": {
   "display_name": "Python 3",
   "language": "python",
   "name": "python3"
  },
  "language_info": {
   "codemirror_mode": {
    "name": "ipython",
    "version": 3
   },
   "file_extension": ".py",
   "mimetype": "text/x-python",
   "name": "python",
   "nbconvert_exporter": "python",
   "pygments_lexer": "ipython3",
   "version": "3.8.10"
  }
 },
 "nbformat": 4,
 "nbformat_minor": 5
}
